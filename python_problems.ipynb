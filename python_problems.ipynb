{
 "cells": [
  {
   "cell_type": "code",
   "execution_count": null,
   "id": "06542580",
   "metadata": {},
   "outputs": [],
   "source": [
    "##P-1: Given a list of dictionaries containing information about employees, write a Python \n",
    "function to calculate the average salary of all employees."
   ]
  },
  {
   "cell_type": "code",
   "execution_count": null,
   "id": "79939f67",
   "metadata": {},
   "outputs": [],
   "source": [
    "def calculate_average_salary(employees_list):\n",
    "    total_salary = 0\n",
    "    num_employees = len(employees_list)     \n",
    "    \n",
    "    for employee in employees_list:\n",
    "        total_salary += employee.get('salary', 0)\n",
    "        \n",
    "    if num_employees>0:\n",
    "        average_salary= total_salary/num_employees\n",
    "        return average_salary\n",
    "    else:\n",
    "        return 0"
   ]
  },
  {
   "cell_type": "code",
   "execution_count": null,
   "id": "deefedf8",
   "metadata": {},
   "outputs": [],
   "source": [
    "employees= [ {'name' : 'John', 'salary': 5000},\n",
    "            {'name':'John2','salary': 6000},\n",
    "            {'name':'John3','salary': 7000}\n",
    "          ]"
   ]
  },
  {
   "cell_type": "code",
   "execution_count": null,
   "id": "db32c148",
   "metadata": {},
   "outputs": [],
   "source": [
    "average_salary = calculate_average_salary(employees)\n",
    "print(f\"Average Salary : ${average_salary:.2f}\")"
   ]
  },
  {
   "cell_type": "code",
   "execution_count": null,
   "id": "a69fc9f7",
   "metadata": {},
   "outputs": [],
   "source": [
    "average_salary = calculate_average_salary(employees)\n",
    "print(f\"Average Salary : ${average_salary}\")"
   ]
  },
  {
   "cell_type": "code",
   "execution_count": null,
   "id": "91a35869",
   "metadata": {},
   "outputs": [],
   "source": [
    "average_salary = calculate_average_salary(employees)\n",
    "print(\"Average Salary : ${average_salary}\")"
   ]
  },
  {
   "cell_type": "code",
   "execution_count": null,
   "id": "9bbb1c44",
   "metadata": {},
   "outputs": [],
   "source": [
    "##p-2.Given a list of dictionaries containing information about employees, write a Python function to\n",
    "calculate the total salary of employees who have a salary greater than a specified threshold."
   ]
  },
  {
   "cell_type": "code",
   "execution_count": null,
   "id": "7646077f",
   "metadata": {},
   "outputs": [],
   "source": [
    "def calculate_total_salary_above_threshold(employees_list, threshold):\n",
    "    total_salary = 0\n",
    "\n",
    "    for employee in employees_list:\n",
    "        salary = employee.get('salary', 0)\n",
    "        if salary > threshold:\n",
    "            total_salary += salary\n",
    "\n",
    "    return total_salary"
   ]
  },
  {
   "cell_type": "code",
   "execution_count": null,
   "id": "592e1023",
   "metadata": {},
   "outputs": [],
   "source": [
    "# Example list of dictionaries containing employee information\n",
    "employees = [\n",
    "    {'name': 'John', 'salary': 50000},\n",
    "    {'name': 'Jane', 'salary': 60000},\n",
    "    {'name': 'Mike', 'salary': 55000},\n",
    "    {'name': 'Emily', 'salary': 65000}\n",
    "]"
   ]
  },
  {
   "cell_type": "code",
   "execution_count": null,
   "id": "dddca7f7",
   "metadata": {},
   "outputs": [],
   "source": [
    "# Specify the salary threshold\n",
    "threshold_salary = 55000\n"
   ]
  },
  {
   "cell_type": "code",
   "execution_count": null,
   "id": "264e4c64",
   "metadata": {},
   "outputs": [],
   "source": [
    "#p-3 Calculate and print the total salary of employees with a salary above the threshold\n",
    "total_salary_above_threshold = calculate_total_salary_above_threshold(employees, threshold_salary)\n",
    "print(f\"Total Salary above ${threshold_salary}: ${total_salary_above_threshold:.2f}\")"
   ]
  },
  {
   "cell_type": "code",
   "execution_count": null,
   "id": "78ceb9da",
   "metadata": {},
   "outputs": [],
   "source": [
    "Given a list of dictionaries containing information about employees, write a Python function to\n",
    "find the highest salary among all employees."
   ]
  },
  {
   "cell_type": "code",
   "execution_count": null,
   "id": "e9e9bd35",
   "metadata": {},
   "outputs": [],
   "source": [
    "def calculate_maximum_salary(employee_list):\n",
    "    max_salary=0\n",
    "    \n",
    "    for employee in employee_list:\n",
    "        salary = employee.get('salary', 0)\n",
    "    \n",
    "        if salary > max_salary:\n",
    "            max_salary = salary\n",
    "                \n",
    "    return max_salary"
   ]
  },
  {
   "cell_type": "code",
   "execution_count": null,
   "id": "3bf43e22",
   "metadata": {},
   "outputs": [],
   "source": [
    "employees = [\n",
    "    {'name': 'john', 'salary': 5000},\n",
    "    {'name': 'jane', 'salary': 6000},\n",
    "    {'name': 'mike', 'salary': 7000},\n",
    "    {'name': 'emily','salary': 8000}\n",
    "]"
   ]
  },
  {
   "cell_type": "code",
   "execution_count": null,
   "id": "eb694136",
   "metadata": {},
   "outputs": [],
   "source": [
    "maxsalary=calculate_maximum_salary(employees)"
   ]
  },
  {
   "cell_type": "code",
   "execution_count": null,
   "id": "9cd1e716",
   "metadata": {},
   "outputs": [],
   "source": [
    "print(maxsalary) "
   ]
  },
  {
   "cell_type": "code",
   "execution_count": null,
   "id": "dbb51288",
   "metadata": {},
   "outputs": [],
   "source": [
    "print(\"Maximum Salary:\", maxsalary)"
   ]
  },
  {
   "cell_type": "code",
   "execution_count": null,
   "id": "506967e8",
   "metadata": {},
   "outputs": [],
   "source": [
    "##p-4.Given a list of dictionaries containing information about employees, write a Python function to \n",
    "find the lowest salary among all employees."
   ]
  },
  {
   "cell_type": "code",
   "execution_count": null,
   "id": "7910c391",
   "metadata": {},
   "outputs": [],
   "source": [
    "##lowest salary\n",
    "def calculate_minimum_salary(employee_list):\n",
    "    min_salary=1.7976931348623157e+308\n",
    "    \n",
    "    for employee in employee_list:\n",
    "        salary = employee.get('salary', 0)\n",
    "    \n",
    "        if salary < min_salary:\n",
    "            min_salary = salary\n",
    "                \n",
    "    return min_salary"
   ]
  },
  {
   "cell_type": "code",
   "execution_count": null,
   "id": "7bfc1c79",
   "metadata": {},
   "outputs": [],
   "source": [
    "employees = [\n",
    "    {'name': 'john', 'salary': 3000},\n",
    "    {'name': 'jane', 'salary': 6000},\n",
    "    {'name': 'mike', 'salary': 7000},\n",
    "    {'name': 'emily','salary': 8000}\n",
    "]"
   ]
  },
  {
   "cell_type": "code",
   "execution_count": null,
   "id": "a2246c80",
   "metadata": {},
   "outputs": [],
   "source": [
    "lowestsalary=calculate_minimum_salary(employees)\n",
    "\n",
    "print(\"Lowest Salary:\", lowestsalary)"
   ]
  },
  {
   "cell_type": "code",
   "execution_count": null,
   "id": "b59ad6b8",
   "metadata": {},
   "outputs": [],
   "source": [
    "##another_way\n",
    "\n",
    "def find_lowest_salary(employees_list):\n",
    "    lowest_salary = float('inf')  # Initialize with a value higher than any possible salary\n",
    "\n",
    "    for employee in employees_list:\n",
    "        salary = employee.get('salary', float('inf'))\n",
    "        if salary < lowest_salary:\n",
    "            lowest_salary = salary\n",
    "\n",
    "    return lowest_salary\n",
    "\n"
   ]
  },
  {
   "cell_type": "code",
   "execution_count": null,
   "id": "a9d96af4",
   "metadata": {},
   "outputs": [],
   "source": [
    "# Example list of dictionaries containing employee information\n",
    "employees = [\n",
    "    {'name': 'John', 'salary': 50000},\n",
    "    {'name': 'Jane', 'salary': 60000},\n",
    "    {'name': 'Mike', 'salary': 55000},\n",
    "    {'name': 'Emily', 'salary': 65000}\n",
    "]"
   ]
  },
  {
   "cell_type": "code",
   "execution_count": null,
   "id": "510b7a1a",
   "metadata": {},
   "outputs": [],
   "source": [
    "# Find and print the lowest salary among employees\n",
    "lowest_salary = find_lowest_salary(employees)\n",
    "print(f\"Lowest Salary: ${lowest_salary:.2f}\")"
   ]
  },
  {
   "cell_type": "code",
   "execution_count": null,
   "id": "98e63027",
   "metadata": {},
   "outputs": [],
   "source": [
    "##p-5.Given a list of dictionaries containing information about employees (including department), write \n",
    "a Python function to calculate the average salary of employees within a specified department."
   ]
  },
  {
   "cell_type": "code",
   "execution_count": null,
   "id": "db5a810d",
   "metadata": {},
   "outputs": [],
   "source": [
    "def calculate_average_salary(employee_list, department):\n",
    "    total_salary=0\n",
    "    num_employee=0\n",
    "    \n",
    "    for employee in employee_list:\n",
    "        salary = employee.get('salary', 0)\n",
    "        department1 = employee.get('department','' )\n",
    "        \n",
    "        if department1 == department:\n",
    "            total_salary += employee.get('salary', 0)\n",
    "            num_employee += 1\n",
    "            \n",
    "    if  num_employee> 0:\n",
    "        avg= total_salary/num_employee\n",
    "                \n",
    "        return avg\n",
    "    else:\n",
    "        return 0\n"
   ]
  },
  {
   "cell_type": "code",
   "execution_count": null,
   "id": "7c9ef262",
   "metadata": {},
   "outputs": [],
   "source": [
    "employees=[\n",
    "    {'name': 'john', 'salary':5000, 'department':'cse'},\n",
    "    {'name': 'jane', 'salary':2000, 'department':'cse'},\n",
    "    {'name': 'mika', 'salary':7000, 'department':'cse'},\n",
    "    {'name': 'emily', 'salary':9000, 'department': 'bba'},\n",
    "    {'name': 'olaa', 'salary':4000, 'department': 'bba'},\n",
    "    {'name': 'shila', 'salary':1000, 'department': 'bba'}\n",
    "    \n",
    "]\n",
    "target_department ='bba'"
   ]
  },
  {
   "cell_type": "code",
   "execution_count": null,
   "id": "b523e5c0",
   "metadata": {},
   "outputs": [],
   "source": [
    "avg = calculate_average_salary(employees, target_department)\n",
    "\n",
    "print(f\"Average Salary of BBB: ${avg:.2f}\")\n",
    "      \n",
    "            \n",
    "      \n"
   ]
  },
  {
   "cell_type": "code",
   "execution_count": null,
   "id": "ec4d041e",
   "metadata": {},
   "outputs": [],
   "source": [
    "for employee in employees:\n",
    "        salary = employee.get('salary', 0)\n",
    "        print(salary)"
   ]
  },
  {
   "cell_type": "code",
   "execution_count": null,
   "id": "a76c5f28",
   "metadata": {},
   "outputs": [],
   "source": [
    "##p-6.Given an integer x, return true if x is a palindrome, and false otherwise."
   ]
  },
  {
   "cell_type": "code",
   "execution_count": null,
   "id": "7d57db74",
   "metadata": {},
   "outputs": [],
   "source": [
    "def is_palindrome_integer(n):\n",
    "    if n<0:\n",
    "        return false\n",
    "    \n",
    "    #convert the integer to a string \n",
    "    n_str=str(n)\n",
    "    \n",
    "    #check if the n_str is equal to the reverse\n",
    "    return n_str == n_str[::-1]\n"
   ]
  },
  {
   "cell_type": "code",
   "execution_count": null,
   "id": "5f0efba7",
   "metadata": {},
   "outputs": [],
   "source": [
    "x=121"
   ]
  },
  {
   "cell_type": "code",
   "execution_count": null,
   "id": "3780b8b3",
   "metadata": {},
   "outputs": [],
   "source": [
    "y=is_palindrome_integer(x)\n",
    "print(y) "
   ]
  },
  {
   "cell_type": "code",
   "execution_count": null,
   "id": "b47cf454",
   "metadata": {},
   "outputs": [],
   "source": [
    "def is_palindrome(s):\n",
    "    return s == s[::-1]\n",
    " \n",
    "print(is_palindrome(\"racecar\")) \n",
    "print(is_palindrome(\"hello\")) \n",
    "print(is_palindrome(\"level\")) \n",
    "print(is_palindrome(\"python\")) \n",
    "\n",
    "    "
   ]
  },
  {
   "cell_type": "code",
   "execution_count": null,
   "id": "4886ce99",
   "metadata": {},
   "outputs": [],
   "source": [
    "s=121\n",
    "reversed_s = s[:: -1]\n",
    "print(reversed_s)"
   ]
  },
  {
   "cell_type": "code",
   "execution_count": null,
   "id": "ffc36975",
   "metadata": {},
   "outputs": [],
   "source": [
    "s=\"hello\"\n",
    "reversed_s = s[:: -2]\n",
    "print(reversed_s)"
   ]
  },
  {
   "cell_type": "code",
   "execution_count": null,
   "id": "1ffb0893",
   "metadata": {},
   "outputs": [],
   "source": [
    "s=\"hello\"\n",
    "reversed_s = s[:: 1]\n",
    "print(reversed_s)"
   ]
  },
  {
   "cell_type": "code",
   "execution_count": null,
   "id": "7fa58efa",
   "metadata": {},
   "outputs": [],
   "source": [
    "s=\"hello\"\n",
    "reversed_s = s[:: 2]\n",
    "print(reversed_s)"
   ]
  },
  {
   "cell_type": "code",
   "execution_count": null,
   "id": "7cf5091e",
   "metadata": {},
   "outputs": [],
   "source": [
    "11/2"
   ]
  },
  {
   "cell_type": "code",
   "execution_count": null,
   "id": "a2979326",
   "metadata": {},
   "outputs": [],
   "source": [
    "def is_palindrome_integer(n):\n",
    "    if n<0:\n",
    "        return False\n",
    "    original = n\n",
    "    reverse_num = 0\n",
    "    \n",
    "    while n>0:\n",
    "        last_digit = n%10\n",
    "        reversed_num = reversed\n",
    "    \n",
    "    "
   ]
  },
  {
   "cell_type": "code",
   "execution_count": null,
   "id": "5d2b294e",
   "metadata": {},
   "outputs": [],
   "source": [
    "##p-7. Remove duplicate from sorted array"
   ]
  },
  {
   "cell_type": "code",
   "execution_count": null,
   "id": "70dadba3",
   "metadata": {},
   "outputs": [],
   "source": [
    "def remove_duplicates(sorted_array):\n",
    "    if len(sorted_array) == 0:\n",
    "        return []\n",
    "\n",
    "    unique_elements = [sorted_array[0]]\n",
    "    \n",
    "    for num in sorted_array[1:]:\n",
    "        if num != unique_elements[-1]:\n",
    "            unique_elements.append(num)\n",
    "    return unique_elements\n",
    "\n",
    "nums = [1, 2, 2, 3, 22, 30, 30, 47, 47, 99]\n",
    "k = remove_duplicates(nums)\n",
    "print(k)"
   ]
  },
  {
   "cell_type": "code",
   "execution_count": null,
   "id": "b9f48d22",
   "metadata": {},
   "outputs": [],
   "source": [
    "my_array:[1,2,2,3,3,3,4,,5,6,6,7]"
   ]
  },
  {
   "cell_type": "code",
   "execution_count": null,
   "id": "db5a5933",
   "metadata": {},
   "outputs": [],
   "source": [
    "## anotherway\n",
    "def remove_duplicates(nums):\n",
    "    nums[:] = sorted(set(nums))\n",
    "\n",
    "# Example usage\n",
    "sorted_array = [1, 1, 2, 2, 3, 3, 3, 4, 5, 5, 6]\n",
    "remove_duplicates(sorted_array)\n",
    "print(sorted_array)  "
   ]
  },
  {
   "cell_type": "code",
   "execution_count": null,
   "id": "d9fe45bf",
   "metadata": {},
   "outputs": [],
   "source": [
    "##anotherway\n",
    "def remove_duplicates(nums):\n",
    "    if not nums:\n",
    "        return 0\n",
    "    \n",
    "    j = 0\n",
    "    for i in range(1, len(nums)):\n",
    "        if nums[i] != nums[j]:\n",
    "            j += 1\n",
    "            nums[j] = nums[i]\n",
    "    \n",
    "    del nums[j+1:]\n",
    "\n",
    "# Example usage\n",
    "sorted_array = [1, 1, 2, 2, 3, 3, 3, 4, 5, 5, 6]\n",
    "remove_duplicates(sorted_array)\n",
    "print(sorted_array)  # Print the array with unique elements\n"
   ]
  },
  {
   "cell_type": "code",
   "execution_count": null,
   "id": "bef21e48",
   "metadata": {},
   "outputs": [],
   "source": []
  },
  {
   "cell_type": "code",
   "execution_count": null,
   "id": "d33899b1",
   "metadata": {},
   "outputs": [],
   "source": []
  },
  {
   "cell_type": "code",
   "execution_count": null,
   "id": "92a0d7ad",
   "metadata": {},
   "outputs": [],
   "source": [
    "##array blank \n",
    "def remove_duplicates(my_array1):\n",
    "    if len(my_array1) == 0:\n",
    "        return []\n",
    "    "
   ]
  },
  {
   "cell_type": "code",
   "execution_count": null,
   "id": "2a896788",
   "metadata": {},
   "outputs": [],
   "source": [
    "my_array = []"
   ]
  },
  {
   "cell_type": "code",
   "execution_count": 36,
   "id": "70b842c4",
   "metadata": {},
   "outputs": [
    {
     "name": "stdout",
     "output_type": "stream",
     "text": [
      "[]\n"
     ]
    }
   ],
   "source": [
    "final_array=remove_duplicates(my_array)\n",
    "print(final_array) "
   ]
  },
  {
   "cell_type": "code",
   "execution_count": 2,
   "id": "065ecc90",
   "metadata": {},
   "outputs": [],
   "source": [
    "array_1= [1,2,4,6,7,9]"
   ]
  },
  {
   "cell_type": "code",
   "execution_count": 6,
   "id": "11be3312",
   "metadata": {},
   "outputs": [],
   "source": [
    "sorted_array= [array_1[0]]"
   ]
  },
  {
   "cell_type": "code",
   "execution_count": null,
   "id": "f3344948",
   "metadata": {},
   "outputs": [],
   "source": []
  }
 ],
 "metadata": {
  "kernelspec": {
   "display_name": "Python 3 (ipykernel)",
   "language": "python",
   "name": "python3"
  },
  "language_info": {
   "codemirror_mode": {
    "name": "ipython",
    "version": 3
   },
   "file_extension": ".py",
   "mimetype": "text/x-python",
   "name": "python",
   "nbconvert_exporter": "python",
   "pygments_lexer": "ipython3",
   "version": "3.9.7"
  }
 },
 "nbformat": 4,
 "nbformat_minor": 5
}
